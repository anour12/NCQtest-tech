{
  "nbformat": 4,
  "nbformat_minor": 0,
  "metadata": {
    "colab": {
      "name": "Untitled2.ipynb",
      "provenance": []
    },
    "kernelspec": {
      "name": "python3",
      "display_name": "Python 3"
    }
  },
  "cells": [
    {
      "cell_type": "code",
      "metadata": {
        "colab": {
          "base_uri": "https://localhost:8080/"
        },
        "id": "9LdHxtDVSorT",
        "outputId": "08ea7310-85d5-4b43-bf1a-0f8a8f3f07d9"
      },
      "source": [
        "#Algo1\r\n",
        "def solution(n,A):\r\n",
        "  result=np.zeros(n) \r\n",
        "  for i in range (len(A)) :\r\n",
        "    if(A[i]>=1) and (A[i]<=n) :\r\n",
        "      result[A[i]-1]+=1\r\n",
        "    elif (A[i]== n+1):\r\n",
        "      result=[max(result)]*n\r\n",
        "  return(result)\r\n",
        "print(solution(5, [3,4,4,6,1,4,4]))"
      ],
      "execution_count": 6,
      "outputs": [
        {
          "output_type": "stream",
          "text": [
            "[3.0, 2.0, 2.0, 4.0, 2.0]\n"
          ],
          "name": "stdout"
        }
      ]
    },
    {
      "cell_type": "code",
      "metadata": {
        "colab": {
          "base_uri": "https://localhost:8080/"
        },
        "id": "Nc3QALQqT2pe",
        "outputId": "c98a4528-e55f-46c8-80e9-fdcd9f36a785"
      },
      "source": [
        "#Algo2\r\n",
        "def solution(A, B):\r\n",
        "\r\n",
        "    L = max(A)\r\n",
        "    fibonacci = [0] * (L+2)\r\n",
        "    fibonacci[1] = 1\r\n",
        "\r\n",
        "    for i in range(2, L + 2):\r\n",
        "        fibonacci[i] = fibonacci[i - 1] + fibonacci[i - 2]\r\n",
        "    result = [0] * len(A)\r\n",
        "\r\n",
        "    for j in range(len(A)):\r\n",
        "\r\n",
        "        result[j] = fibonacci[A[j]+1] & ((1 << B[j]) - 1)\r\n",
        "\r\n",
        "    return result\r\n",
        "print(solution([4,4,5,5,1],[3,2,4,3,1]))"
      ],
      "execution_count": 29,
      "outputs": [
        {
          "output_type": "stream",
          "text": [
            "[5, 1, 8, 0, 1]\n"
          ],
          "name": "stdout"
        }
      ]
    },
    {
      "cell_type": "code",
      "metadata": {
        "colab": {
          "base_uri": "https://localhost:8080/"
        },
        "id": "sysHGxgDgVK7",
        "outputId": "7eefb76b-47dc-4e71-a6f5-c21d5be6320e"
      },
      "source": [
        "#Algo3\r\n",
        "def solution(A):\r\n",
        "    N= len(A)\r\n",
        "    M = 0\r\n",
        "    for i in range(N):\r\n",
        "        A[i] = abs(A[i])\r\n",
        "        M = max(A[i], M)\r\n",
        "    S = sum(A)\r\n",
        "    c = [0] * (M + 1)\r\n",
        "    for i in range(N):\r\n",
        "        c[A[i]] += 1\r\n",
        "    p = [-1] * (S + 1)\r\n",
        "    p[0] = 0\r\n",
        "    for a in range(1, M + 1):\r\n",
        "        if c[a] > 0:\r\n",
        "            for j in range(S):\r\n",
        "                if p[j] >= 0:\r\n",
        "                    p[j] = c[a]\r\n",
        "                elif (j >= a and p[j - a] > 0):\r\n",
        "                    p[j] = p[j - a] - 1\r\n",
        "    result = S\r\n",
        "    for i in range(S // 2 + 1):\r\n",
        "      if p[i] >= 0:\r\n",
        "        result = min(result, S - 2 * i)\r\n",
        "    return result\r\n",
        "print(solution([1,5,2,-2]))"
      ],
      "execution_count": 31,
      "outputs": [
        {
          "output_type": "stream",
          "text": [
            "0\n"
          ],
          "name": "stdout"
        }
      ]
    },
    {
      "cell_type": "code",
      "metadata": {
        "id": "DtGUos7v7Y_o"
      },
      "source": [
        ""
      ],
      "execution_count": null,
      "outputs": []
    }
  ]
}